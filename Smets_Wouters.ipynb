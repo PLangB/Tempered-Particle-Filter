{
 "cells": [
  {
   "cell_type": "markdown",
   "metadata": {},
   "source": [
    "\\title{Smets_Wouters}\n",
    "\n",
    "\\author{Laszlo Tetenyi}\n",
    "\n",
    "\\date{November 18, 2017}\n",
    "\n",
    "\n",
    "\\maketitle"
   ]
  },
  {
   "cell_type": "markdown",
   "metadata": {},
   "source": [
    "\\section*{State space representation}\n",
    "\n",
    "In order to solve the problem, we first stack all the equations into canonical the canonical form:\n",
    "\\begin{equation*}\n",
    "A(\\theta)X_{t}=B(\\theta)E_{t}X_{t+1}+C(\\theta)X_{t-1}+D(\\theta)\\eta_{t}\n",
    "\\end{equation*}\n",
    "where the state vector is the in deviation from the steady state:\n",
    "\\begin{equation*}\n",
    "X_t =\n",
    "\\begin{bmatrix}\n",
    "   y_t& c_t & i_t & g_t & l_t& k^s_t&z_t&k_t&\\mu^p_t&\\pi_t&r_t^k&\\mu^w_t&w_t&r_t&\\epsilon_t^a&\\epsilon_t^b&\\epsilon_t^g&\\epsilon_t^i&\\epsilon_t^r&\\epsilon_t^p&\\epsilon_t^w\n",
    "\\end{bmatrix}'\n",
    "\\end{equation*}\n",
    "and the underlying parameters:\n",
    "\\begin{equation*}\n",
    "\\theta =\n",
    "\\begin{bmatrix}\n",
    "   \\tilde{\\beta}& \\bar{\\pi}& \\bar{l}&\\alpha & \\sigma &\\Phi& \\phi& h& \\xi_w& \\sigma_l& \\xi_p&i_w&i_p&\\psi& r_{\\pi}&\\rho&r_y\\\\\n",
    "   r_{\\Delta y}&\\rho_{a}&\\rho_{b}&\\rho_{g}&\\rho_{i}&\\rho_{r}&\\rho_{p}&\\rho_{w}&\\rho_{ga}&\\mu_p&\\mu_w&\\sigma_a&\\sigma_b&\\sigma_g&\\sigma_i&\\sigma_r&\\sigma_p&\\sigma_w\n",
    "\\end{bmatrix}\n",
    "\\end{equation*}\n",
    "Next we conjecture that the solution is linear:\n",
    "\\begin{equation*}\n",
    "X_{t}=FX_{t-1}+G\\eta_{t}\n",
    "\\end{equation*}\\\\\n",
    "Since we can solve for $G$ once we know $F$. The $F$ matrix solves the following quadratic equation:\n",
    "\\begin{equation*}\n",
    "BF^{2}-AF+C=0\n",
    "\\end{equation*}\\\\\n",
    "We solve for $F$ using the Generalized Schur Decomposition. The observed variables $Y_{t}$ evolve according to: \n",
    "\\begin{equation*}\n",
    "Y_{t}= Const + H_1 X_{t} + H_2 X_{t-1} +J \\zeta_{t}\n",
    "\\end{equation*}\\\\"
   ]
  },
  {
   "cell_type": "code",
   "execution_count": 1,
   "metadata": {
    "collapsed": true
   },
   "outputs": [],
   "source": [
    "import numpy as np\n",
    "from numba import jit\n",
    "import scipy.linalg as linalg\n",
    "import scipy.stats as stats\n",
    "import scipy.optimize as optimize\n",
    "import matplotlib.pyplot as plt\n",
    "%matplotlib inline\n",
    "import warnings; warnings.simplefilter('ignore')\n",
    "from tqdm import tqdm\n",
    "import quandl as Quandl\n",
    "import pandas\n",
    "import time\n",
    "from matplotlib2tikz import save as tikz_save"
   ]
  },
  {
   "cell_type": "markdown",
   "metadata": {},
   "source": [
    "True parameter vector is:"
   ]
  },
  {
   "cell_type": "code",
   "execution_count": 2,
   "metadata": {
    "collapsed": true
   },
   "outputs": [],
   "source": [
    "param_likely = np.array([0.159,0.774,-1.078,0.181,1.016,1.342,6.625,0.597,0.752,2.736,0.861,0.259,0.463,0.837,1.769,0.855,0.090,\n",
    "                      0.168,0.982,0.868,0.962,0.702,0.414,0.782,0.971,0.450,0.673,0.892,0.375,0.073,0.428,0.35,0.144,0.101,0.311])"
   ]
  },
  {
   "cell_type": "code",
   "execution_count": 3,
   "metadata": {
    "collapsed": true
   },
   "outputs": [],
   "source": [
    "param_unlikely = np.array([0.182,0.571,0.019,0.23,1.166,1.455,4.065,0.511,0.647,1.217,0.807,0.452,0.494,0.828,1.827,0.836,0.069,\n",
    "                    0.156,0.962,0.849,0.947,0.723,0.497,0.831,0.968,0.565,0.741,0.871,0.418,0.075,0.444,0.358,0.131,0.117,0.382])"
   ]
  },
  {
   "cell_type": "code",
   "execution_count": 4,
   "metadata": {
    "collapsed": true
   },
   "outputs": [],
   "source": [
    "#Model parameters that are calibrated\n",
    "gamma_bar = 0.4312\n",
    "delta = 0.025\n",
    "lambda_w = 1.5\n",
    "g_y = 0.18\n",
    "epsilon_p = 10 # Kimball aggregator goods market\n",
    "epsilon_w = 10 # Kimball aggregator labor market\n",
    "no_st = 38\n",
    "no_observables = 7"
   ]
  },
  {
   "cell_type": "code",
   "execution_count": 5,
   "metadata": {
    "collapsed": true
   },
   "outputs": [],
   "source": [
    "@jit\n",
    "def eval_theta(param):\n",
    "    #Parameters\n",
    "    beta = 100/(param[0] + 100) \n",
    "    pi_bar = param[1]\n",
    "    l_bar = param[2]\n",
    "    alpha = param[3]\n",
    "    sigma_c = param[4]\n",
    "    Phi = param[5] \n",
    "    phi = param[6]\n",
    "    h = param[7] \n",
    "    xi_w = param[8] \n",
    "    sigma_l= param[9]\n",
    "    xi_p = param[10]\n",
    "    i_w = param[11]\n",
    "    i_p = param[12] \n",
    "    psi = param[13]\n",
    "    r_pi = param[14] \n",
    "    rho = param[15] \n",
    "    r_y = param[16]\n",
    "    r_Delta_y = param[17]\n",
    "    rho_a = param[18] \n",
    "    rho_b = param[19] \n",
    "    rho_g = param[20] \n",
    "    rho_i = param[21] \n",
    "    rho_r = param[22] \n",
    "    rho_p = param[23] \n",
    "    rho_w = param[24] \n",
    "    rho_ga = param[25] \n",
    "    mu_p = param[26] \n",
    "    mu_w = param[27] \n",
    "    sigma_a = param[28] \n",
    "    sigma_b = param[29] \n",
    "    sigma_g = param[30] \n",
    "    sigma_i = param[31]\n",
    "    sigma_r = param[32]\n",
    "    sigma_p = param[33]\n",
    "    sigma_w = param[34]\n",
    "    gamma = gamma_bar/100 + 1\n",
    "    star_pi = pi_bar /100 + 1\n",
    "    r_bar = 100 * (1 /beta * gamma**sigma_c *star_pi - 1)\n",
    "    r_k_ss = gamma**sigma_c/beta - 1 + delta\n",
    "    w_ss = (alpha**alpha *(1 - alpha)**(1 - alpha)/(Phi * r_k_ss**(alpha)))**(1/(1 - alpha))\n",
    "    i_k = (1 - (1 - delta)/gamma) * gamma\n",
    "    l_k = (1 - alpha)/alpha * r_k_ss/ w_ss\n",
    "    k_y = Phi * l_k**(alpha - 1)\n",
    "    i_y = (gamma - 1 + delta) * k_y\n",
    "    c_y = 1 - g_y - i_y\n",
    "    z_y = r_k_ss * k_y\n",
    "    wl_c = 1/lambda_w * (1 - alpha) /alpha * r_k_ss * k_y/c_y\n",
    "    #Create DSGE matrix\n",
    "    A = np.eye(no_st,no_st)\n",
    "    B = np.zeros((no_st,no_st))\n",
    "    C = np.zeros((no_st,no_st))\n",
    "    D = np.zeros((no_st,no_observables))\n",
    "    H = np.zeros((no_observables,no_st))\n",
    "    J = np.eye(no_observables,no_observables)\n",
    "    Const_obs = np.zeros((no_observables,1))\n",
    "    # Load the model:\n",
    "    #Output\n",
    "    A[0,1] = -c_y\n",
    "    A[0,2] = -i_y\n",
    "    A[0,6] = -z_y\n",
    "    A[0,16] = -1\n",
    "    #Consumption\n",
    "    A[1,4] = -wl_c * (sigma_c - 1)/sigma_c/(1 + h/gamma)\n",
    "    A[1,13] = (1 - h/gamma)/(1 + h/gamma)/sigma_c\n",
    "    A[1,15] = -1 #(1 - h/gamma)/(1 + h/gamma)/sigma_c\n",
    "    B[1,4] = -wl_c * (sigma_c - 1)/sigma_c/(1 + h/gamma)\n",
    "    B[1,9] = (1 - h/gamma)/(1 + h/gamma)/sigma_c\n",
    "    B[1,1] = 1/(1 + h/gamma)\n",
    "    C[1,1] = (h/gamma)/(1 + h/gamma)\n",
    "    #Investment\n",
    "    A[2,3] = -1/(gamma**2 * phi*(1 + beta * gamma**(1 - sigma_c)))\n",
    "    B[2,2] = beta* gamma**(1-sigma_c) /(beta* gamma**(1-sigma_c) + 1)\n",
    "    C[2,2] = 1 /(beta* gamma**(1-sigma_c) + 1)\n",
    "    A[2,17] = -1\n",
    "    #Arbitrage for the value of capital\n",
    "    #A[3,15] = 1\n",
    "    A[3,15] = -sigma_c* (h/gamma + 1) /(-h/gamma + 1)\n",
    "    A[3,13] = 1\n",
    "    B[3,3] = beta * (1-delta) * gamma**(-sigma_c)\n",
    "    B[3,9] = 1\n",
    "    B[3,10] = 1 - beta*(1 - delta)* gamma**(-sigma_c) \n",
    "    # Production - labor\n",
    "    A[4,0] = 1\n",
    "    A[4,5] = -Phi * alpha\n",
    "    A[4,4] = -Phi * (1 - alpha)\n",
    "    A[4,14] = -Phi\n",
    "    # Effective Capital\n",
    "    C[5,7] = 1\n",
    "    A[5,6] = -1\n",
    "    # Capital utilization\n",
    "    A[6,10] = -(1 - psi)/psi\n",
    "    # Installed capital\n",
    "    A[7,2] =  - (1 - (1 - delta)/gamma)\n",
    "    A[7,17] = - (1 - (1 - delta)/gamma) * phi * gamma**2 * (1 + beta * gamma**(1 - sigma_c))\n",
    "    C[7,7] = (1 - delta)/gamma\n",
    "    # Price mark-up\n",
    "    A[8,5] = -alpha\n",
    "    A[8,4] = alpha\n",
    "    A[8,12] = 1\n",
    "    A[8,14] = -1\n",
    "    # New-Keynesian Phillips curve\n",
    "    A[9,8] = ((1 - beta *gamma**(1 - sigma_c) * xi_p) * (1 - xi_p))/((\n",
    "        1 + i_p *beta * gamma**(1 - sigma_c)) *  (1 + (Phi - 1)*epsilon_p)*xi_p)\n",
    "    A[9,19] = -1\n",
    "    B[9,9] = beta * gamma**(1 - sigma_c)/(1 + i_p * beta * gamma**(1 - sigma_c))\n",
    "    C[9,9] = i_p/(1 + i_p* beta * gamma**(1 - sigma_c)) # typo in Schorfheide probably\n",
    "    # Rental rate\n",
    "    A[10,4] = -1\n",
    "    A[10,12] = -1\n",
    "    A[10,5] = 1\n",
    "    #A[10,7] = 1 According to AEA original, but not to JPfeiffer or Schorfheide\n",
    "    # Wage markup\n",
    "    A[11,12] = -1\n",
    "    A[11,4] = sigma_l\n",
    "    A[11,1] = 1/ (1 - h/gamma)\n",
    "    C[11,1] = h/gamma/ (1 - h/gamma)\n",
    "    # Sticky wages\n",
    "    A[12,9] = (1 + beta * gamma**(1 - sigma_c) * i_w)/(1 + beta * gamma**(1 - sigma_c))\n",
    "    A[12,11] = ((1 - beta *gamma**(1 - sigma_c) * xi_w) * (1 - xi_w))/((\n",
    "        1 + beta * gamma**(1 - sigma_c) )*  (1 + (lambda_w - 1)*epsilon_w)*xi_w)\n",
    "    A[12,20] = -1\n",
    "    B[12,12] = (beta * gamma**(1 - sigma_c))/(1 + beta * gamma**(1 - sigma_c))\n",
    "    B[12,9] = (beta * gamma**(1 - sigma_c))/(1 + beta * gamma**(1 - sigma_c))\n",
    "    C[12,12] = 1/(1 + beta * gamma**(1 - sigma_c))\n",
    "    C[12,9] = i_w/(1 + beta * gamma**(1 - sigma_c)) # typo in Schorfheide probably\n",
    "    # Nominal interest rate setting\n",
    "    A[13,9] = -(1-rho)*r_pi\n",
    "    A[13,0] = -(1-rho)*r_y - r_Delta_y\n",
    "    A[13,21] = (1-rho)*r_y + r_Delta_y\n",
    "    C[13,0] = - r_Delta_y\n",
    "    C[13,21] =  r_Delta_y\n",
    "    A[13,18] = -1\n",
    "    C[13,13] = rho\n",
    "    # Shocks\n",
    "    C[14,14] = rho_a\n",
    "    D[14,0] = sigma_a\n",
    "    C[15,15] = rho_b\n",
    "    D[15,1] = sigma_b\n",
    "    C[16,16] = rho_g\n",
    "    D[16,2] = sigma_g\n",
    "    D[16,0] = rho_ga * sigma_a\n",
    "    C[17,17] = rho_i\n",
    "    D[17,3] = sigma_i\n",
    "    C[18,18] = rho_r\n",
    "    D[18,4] = sigma_r\n",
    "    C[19,19] = rho_p\n",
    "    D[19,5] = sigma_p # Temporary, for KF\n",
    "    C[19,32] = -mu_p# Temporary, for KF\n",
    "    C[20,20] = rho_w\n",
    "    D[20,6] = sigma_w # Temporary, for KF\n",
    "    C[20,33] = -mu_w# Temporary, for KF\n",
    "    A[21,22] = -c_y\n",
    "    A[21,23] = -i_y\n",
    "    A[21,16] = -1\n",
    "    A[21,27] = -z_y\n",
    "    A[22,25] = -wl_c * (sigma_c - 1)/sigma_c/(1 + h/gamma)\n",
    "    B[22,25] = -wl_c * (sigma_c - 1)/sigma_c/(1 + h/gamma)\n",
    "    A[22,31] = (1 - h/gamma)/(1 + h/gamma)/sigma_c\n",
    "    A[22,15] = -1 #(1 - h/gamma)/(1 + h/gamma)/sigma_c\n",
    "    B[22,22] = 1/(1 + h/gamma)\n",
    "    C[22,22] = (h/gamma)/(1 + h/gamma)\n",
    "    A[23,24] = -1/(gamma**2 * phi*(1 + beta * gamma**(1 - sigma_c)))\n",
    "    B[23,23] = beta* gamma**(1-sigma_c) /(beta* gamma**(1-sigma_c) + 1)\n",
    "    C[23,23] = 1 /(beta* gamma**(1-sigma_c) + 1)\n",
    "    A[23,17] = -1\n",
    "    A[24,31] = 1\n",
    "    #A[24,15] = 1\n",
    "    A[24,15] = -sigma_c* (h/gamma + 1) /(-h/gamma + 1)\n",
    "    B[24,24] = beta * (1-delta) * gamma**(-sigma_c)\n",
    "    B[24,30] = 1 - beta*(1 - delta)* gamma**(-sigma_c) \n",
    "    A[25,21] = 1\n",
    "    A[25,26] = -Phi * alpha\n",
    "    A[25,25] = -Phi * (1 - alpha)\n",
    "    A[25,14] = -Phi\n",
    "    C[26,28] = 1\n",
    "    A[26,27] = -1\n",
    "    A[27,30] = -(1 - psi)/psi\n",
    "    A[28,23] =  - (1 - (1 - delta)/gamma)\n",
    "    A[28,17] = - (1 - (1 - delta)/gamma) * phi * gamma**2 * (1 + beta * gamma**(1 - sigma_c))\n",
    "    C[28,28] = (1 - delta)/gamma\n",
    "    A[29,26] = -alpha\n",
    "    A[29,25] = alpha\n",
    "    A[29,14] = -1\n",
    "    A[30,25] = -1\n",
    "    A[30,29] = -1\n",
    "    A[30,26] = 1 # typo\n",
    "    A[31,25] = -sigma_l\n",
    "    A[31,22] = -1/(1 -h/gamma)\n",
    "    A[31,29] = 1\n",
    "    A[31,31] = 0\n",
    "    C[31,22] = -h/gamma/(1 -h/gamma)\n",
    "    # MA process \n",
    "    D[32,5] = sigma_p\n",
    "    D[33,6] = sigma_w\n",
    "    # Lagged observables stored as states:\n",
    "    C[34,0] = 1\n",
    "    C[35,1] = 1\n",
    "    C[36,2] = 1\n",
    "    C[37,12] = 1\n",
    "    \n",
    "    J[0,0] = 0.1731\n",
    "    J[1,1] = 0.1394\n",
    "    J[2,2] = 0.4515\n",
    "    J[3,3] = 0.1128\n",
    "    J[4,4] = 0.5838\n",
    "    J[5,5] = 0.123\n",
    "    J[6,6] = 0.1653\n",
    "    \n",
    "    H[0,0] = 1\n",
    "    H[0,34] = -1\n",
    "    Const_obs[0,0] = gamma_bar\n",
    "    H[1,1] = 1\n",
    "    H[1,35] = -1\n",
    "    Const_obs[1,0] = gamma_bar\n",
    "    H[2,2] = 1\n",
    "    H[2,36] = -1\n",
    "    Const_obs[2,0] = gamma_bar\n",
    "    H[3,12] = 1\n",
    "    H[3,37] = -1\n",
    "    Const_obs[3,0] = gamma_bar\n",
    "    H[4,4] = 1\n",
    "    Const_obs[4,0] = l_bar\n",
    "    H[5,9] = 1\n",
    "    Const_obs[5,0] = pi_bar\n",
    "    H[6,13] = 1\n",
    "    Const_obs[6,0] = r_bar\n",
    "    # Solve reduced form\n",
    "    K = np.bmat([[np.zeros((no_st,no_st)), np.eye(no_st)], [-C, A]])\n",
    "    L = np.bmat([[ np.eye(no_st),np.zeros((no_st,no_st))], [np.zeros((no_st,no_st)), B]])\n",
    "    T,S,alppha,betta,Q,Z = linalg.ordqz(K,L,sort='iuc')\n",
    "    Z = Z.T\n",
    "    #print(1)\n",
    "    #F = Z[(no_st):(2*no_st),0:no_st] @ linalg.inv(Z[0:no_st,0:no_st])\n",
    "    if (linalg.det(Z[0:no_st,0:no_st]) != 0):\n",
    "        F = (linalg.solve(Z[0:no_st,0:no_st],Z[0:no_st,(no_st):(2*no_st)])).T\n",
    "        #print(2)\n",
    "        #G = np.linalg.inv(A - (B @ F)) @ D\n",
    "        if(linalg.det(A - (B @ F)) != 0):\n",
    "            G = linalg.solve(A - (B @ F),D)\n",
    "        else:\n",
    "            F = np.eye(no_st)\n",
    "            G = F\n",
    "    else:\n",
    "        F = np.eye(no_st)\n",
    "        G = F\n",
    "    err = B @ F @ F - A @ F + C \n",
    "    return F , G , H, J,Const_obs,err"
   ]
  },
  {
   "cell_type": "code",
   "execution_count": 6,
   "metadata": {},
   "outputs": [
    {
     "name": "stdout",
     "output_type": "stream",
     "text": [
      "6.14 ms ± 654 µs per loop (mean ± std. dev. of 7 runs, 1 loop each)\n"
     ]
    }
   ],
   "source": [
    "%%timeit\n",
    "F , G , H, J,Const_obs,err = eval_theta(param_likely)"
   ]
  },
  {
   "cell_type": "code",
   "execution_count": 7,
   "metadata": {
    "collapsed": true
   },
   "outputs": [],
   "source": [
    "@jit\n",
    "def KF_filter(F,G,H,J,x_obs,Const_obs):\n",
    "    T = x_obs.shape[0]\n",
    "    no_state = F.shape[0]\n",
    "    no_measurement = J.shape[0]\n",
    "    X = np.zeros((no_state,1))  # Number of state variables\n",
    "    #P = np.mean(J.diagonal()) * np.zeros((no_state,no_state))  #Initial variance guess\n",
    "    P = linalg.solve_discrete_lyapunov(F,G @ G.T)\n",
    "    lnp = 0\n",
    "    G_quad = G @ G.T\n",
    "    J_quad = (J @ J.T)\n",
    "    I_d = np.eye(no_measurement,no_measurement)\n",
    "    for t in range(x_obs.shape[0]):\n",
    "        X = F @ X\n",
    "        P = F @ P @ F.T + G_quad\n",
    "        y = x_obs[t,None].T - H @ X - Const_obs\n",
    "        H_P_multi = H @ P\n",
    "        V = H_P_multi @ H.T + J_quad\n",
    "        inv_V = linalg.cho_solve(linalg.cho_factor(V,lower=True),I_d )\n",
    "        #inv_V = linalg.inv(V)\n",
    "        #print(linalg.det(P))\n",
    "        lnp = lnp - 0.5 * (np.log(np.linalg.det(V)) + y.T @ inv_V @ y)\n",
    "        X = X + P @ H.T @ inv_V @ y\n",
    "        P = P - H_P_multi.T @ inv_V @ H_P_multi\n",
    "    return lnp - 0.5 * T * no_measurement *  np.log(2*np.pi)  #With 2pi adjustment constant"
   ]
  },
  {
   "cell_type": "code",
   "execution_count": 8,
   "metadata": {
    "collapsed": true
   },
   "outputs": [],
   "source": [
    "def freq_likelihood(param,x_obs):\n",
    "    F,G,H,J,Const_obs,err = eval_theta(param)\n",
    "    eig_val,eig_vec = linalg.eig(F)\n",
    "    if (np.all(np.absolute(eig_val) >=1)) ==0:\n",
    "        res = KF_filter(F,G,H, J,x_obs,Const_obs)\n",
    "    else:\n",
    "        res = -np.inf\n",
    "    return res"
   ]
  },
  {
   "cell_type": "markdown",
   "metadata": {},
   "source": [
    "\\section*{Datawork}\n"
   ]
  },
  {
   "cell_type": "code",
   "execution_count": 9,
   "metadata": {
    "collapsed": true
   },
   "outputs": [],
   "source": [
    "GDP = Quandl.get(\"FRED/GDPC1\", authtoken=\"5QphWABG_zpJsB5dy4yW\")\n",
    "POP = Quandl.get(\"FRED/CNP16OV\", authtoken=\"5QphWABG_zpJsB5dy4yW\", collapse=\"quarterly\")\n",
    "POP = POP/ POP.values[178] # Normalization relative to 1992 Q3\n",
    "CONS = Quandl.get(\"FRED/PCEC\", authtoken=\"5QphWABG_zpJsB5dy4yW\")\n",
    "GDPP = Quandl.get(\"FRED/GDPDEF\", authtoken=\"5QphWABG_zpJsB5dy4yW\")\n",
    "INV = Quandl.get(\"FRED/FPI\", authtoken=\"5QphWABG_zpJsB5dy4yW\")\n",
    "W = Quandl.get(\"FRED/COMPNFB\", authtoken=\"5QphWABG_zpJsB5dy4yW\")\n",
    "HOURS = Quandl.get(\"FRED/PRS85006023\", authtoken=\"5QphWABG_zpJsB5dy4yW\")\n",
    "HOURS =HOURS/100\n",
    "EMP = Quandl.get(\"FRED/CE16OV\", authtoken=\"5QphWABG_zpJsB5dy4yW\", collapse=\"quarterly\")\n",
    "EMP = EMP/ EMP.values[178] # Normalization relative to 1992 Q3\n",
    "FFR = Quandl.get(\"FRED/FEDFUNDS\", authtoken=\"5QphWABG_zpJsB5dy4yW\", collapse=\"quarterly\")"
   ]
  },
  {
   "cell_type": "code",
   "execution_count": 10,
   "metadata": {
    "collapsed": true
   },
   "outputs": [],
   "source": [
    "#x_obs = np.loadtxt(\"YY.txt\",  delimiter='\\t',dtype = None)\n",
    "#np.double(x_obs)\n",
    "#np.genfromtxt(\"YY.txt\",delimiter='\\t')\n",
    "\n",
    "df = pandas.read_table(\"YY.txt\",  delimiter=' ',header=None)\n",
    "x_obs3 = df.values\n",
    "x_obs3 = x_obs3[:,1:8]"
   ]
  },
  {
   "cell_type": "code",
   "execution_count": 11,
   "metadata": {
    "collapsed": true
   },
   "outputs": [],
   "source": [
    "t_start = 46\n",
    "T = 180 - t_start + 23\n",
    "scale = 100\n",
    "x_obs = np.zeros((T,no_observables))\n",
    "range_t_pop = range(t_start + 25,228)\n",
    "range_t1_pop = range(t_start + 24,227)\n",
    "range_t = range(t_start + 29,232)\n",
    "range_t1 = range(t_start + 28,231)\n",
    "range_int = range(202 - T,202)\n",
    "x_obs[:,0] = scale * (np.log(GDP.values[range_t].flatten())\n",
    "                      - np.log(POP.values[range_t_pop].flatten()) \n",
    "                      - np.log(GDP.values[range_t1].flatten())\n",
    "                      + np.log(POP.values[range_t1_pop].flatten()))\n",
    "x_obs[:,1] = scale * (np.log(CONS.values[range_t].flatten() )\n",
    "                        - np.log(GDPP.values[range_t].flatten())\n",
    "                        - np.log(POP.values[range_t_pop].flatten())\n",
    "                        - np.log(CONS.values[range_t1].flatten())\n",
    "                        + np.log(GDPP.values[range_t1].flatten()) \n",
    "                        + np.log(POP.values[range_t1_pop].flatten()))\n",
    "x_obs[:,2] = scale * (np.log(INV.values[range_t].flatten()) \n",
    "                      - np.log( GDPP.values[range_t].flatten())\n",
    "                      - np.log( POP.values[range_t_pop].flatten())  \n",
    "                      - np.log(INV.values[range_t1].flatten()) \n",
    "                      + np.log(GDPP.values[range_t1].flatten()) \n",
    "                      + np.log(POP.values[range_t1_pop].flatten()))\n",
    "x_obs[:,3] = scale * (np.log(W.values[range_t].flatten()) \n",
    "                             - np.log(GDPP.values[range_t].flatten())\n",
    "                             - np.log(W.values[range_t1].flatten()) \n",
    "                             + np.log(GDPP.values[range_t1].flatten()))\n",
    "x_obs[:,4] = scale * ( np.log(HOURS.values[range_t].flatten() \n",
    "                              + np.log( EMP.values[range_t_pop].flatten()) \n",
    "                              - np.log(POP.values[range_t_pop].flatten())))\n",
    "x_obs[:,4] = x_obs[:,4] - x_obs[:,4].mean() \n",
    "x_obs[:,5] = scale * (np.log(GDPP.values[range_t].flatten()) - np.log(GDPP.values[range_t1].flatten()))\n",
    "x_obs[:,6] = FFR.values[range_int].flatten()/4\n",
    "x_obs2 = x_obs.copy()"
   ]
  },
  {
   "cell_type": "code",
   "execution_count": 12,
   "metadata": {},
   "outputs": [
    {
     "data": {
      "text/plain": [
       "array([[-970.0618776]])"
      ]
     },
     "execution_count": 12,
     "metadata": {},
     "output_type": "execute_result"
    }
   ],
   "source": [
    "#Simulation section:\n",
    "T = 156\n",
    "x = np.zeros((no_st,T)) \n",
    "v = np.random.randn(no_observables,T)\n",
    "F , G, H, J, Const_obs,err= eval_theta(param_likely)\n",
    "P_start = linalg.solve_discrete_lyapunov(F,G @ G.T)\n",
    "for t in range(T-1):\n",
    "    x[:,t + 1] = F @ x[:,t] + G @ v[:,t + 1]\n",
    "x_obs = np.zeros((T,no_observables))\n",
    "for t in range(T):\n",
    "    x_obs[t,:] = H @ x[:,t] + J @ v[:,t] + Const_obs.T\n",
    "KF_filter(F,G,H, J,x_obs,Const_obs)"
   ]
  },
  {
   "cell_type": "code",
   "execution_count": 13,
   "metadata": {},
   "outputs": [
    {
     "data": {
      "text/plain": [
       "array([[-943.3407277]])"
      ]
     },
     "execution_count": 13,
     "metadata": {},
     "output_type": "execute_result"
    }
   ],
   "source": [
    "F , G, H, J, Const_obs,err= eval_theta(param_likely)\n",
    "KF_filter(F,G,H, J,x_obs3,Const_obs)"
   ]
  },
  {
   "cell_type": "code",
   "execution_count": 14,
   "metadata": {},
   "outputs": [
    {
     "data": {
      "text/plain": [
       "array([[-956.11810844]])"
      ]
     },
     "execution_count": 14,
     "metadata": {},
     "output_type": "execute_result"
    }
   ],
   "source": [
    "F , G, H, J, Const_obs,err= eval_theta(param_unlikely)\n",
    "KF_filter(F,G,H, J,x_obs3,Const_obs)"
   ]
  },
  {
   "cell_type": "code",
   "execution_count": 15,
   "metadata": {
    "collapsed": true
   },
   "outputs": [],
   "source": [
    "#Notes at: https://www.dropbox.com/home/Econometrics%20Notes?preview=nyu_Bayes5_2017.pdf\n",
    "def particle_filter(F,G,H,J,x_obs,Const_obs,no_simu = 10000):  #F,G,H,J matrix from Kalman filter computation\n",
    "    T = x_obs.shape[0]\n",
    "    no_state = F.shape[0]\n",
    "    no_measurement = J.shape[0]\n",
    "    X_mean = np.zeros((no_st,1)) #Initialize the particle cloud at 0\n",
    "    V_x = linalg.solve_discrete_lyapunov(F,G @ G.T) #Initial Variance function solved from FVF'−F+G @ G.T=0\n",
    "    P = V_x #+ 10 * np.eye(no_state,no_state) # P matrix is the initial variance\n",
    "    lnp = 0 # Initialize likelihood value\n",
    "    #Eta = np.reshape(random_sample(np.zeros(no_state), G @ G.T,no_simu*T),(T,no_simu,no_state),order='F') \n",
    "    Eta = np.reshape(np.random.multivariate_normal(np.zeros(no_state), G @ G.T,no_simu*T),(T,no_simu,no_state),order='F') \n",
    "    #Eta shock reshaped for the number similutaion and time periods, ordered by Fortran optimal code\n",
    "    X = np.random.multivariate_normal(X_mean.flatten(),P,no_simu) #Initial X draw\n",
    "    p_yx = np.zeros((X.shape[0]))\n",
    "    Var_y = J @ J.T\n",
    "    inv_Var_y = linalg.inv(Var_y)\n",
    "    const_obs = np.tile(Const_obs.T,(no_simu,1))\n",
    "    for t in range(T): #Loop over time periods and add up the likelihood\n",
    "        X_next = X @ F.T + Eta[t,:,:]             #Propagate the paricle forward\n",
    "        y_dev = x_obs[t,:] -X_next @ H.T - const_obs\n",
    "        p_yx = np.exp( -0.5 * (np.log(np.linalg.det(Var_y)) + np.diag(( y_dev) @ inv_Var_y @ (y_dev).T))) \n",
    "        #Computing the likelihoood\n",
    "        p_yy = p_yx.mean()\n",
    "        lnp = np.log(p_yy) + lnp\n",
    "        weights_val = p_yx/p_yy/no_simu #Giving weights to the observations\n",
    "        multisample = np.random.multinomial(no_simu, weights_val.flatten(), size=1).flatten() #resampling based on weights\n",
    "        X_next = np.repeat(X_next,multisample,axis = 0) #Creating a new sample based on the weights\n",
    "        X = X_next.copy()\n",
    "    return lnp - 0.5 * T * no_measurement *  np.log(2*np.pi)"
   ]
  },
  {
   "cell_type": "code",
   "execution_count": 16,
   "metadata": {},
   "outputs": [
    {
     "data": {
      "text/plain": [
       "-1758.0710063366582"
      ]
     },
     "execution_count": 16,
     "metadata": {},
     "output_type": "execute_result"
    }
   ],
   "source": [
    "particle_filter(F,G,H,J,x_obs3,Const_obs,no_simu = 2000)"
   ]
  },
  {
   "cell_type": "code",
   "execution_count": 17,
   "metadata": {
    "collapsed": true
   },
   "outputs": [],
   "source": [
    "def tempered_particle_filter(F,G,H,J,x_obs,Const_obs,no_simu,r_star = 2,phi_init = 0.2,markov_time = 1): \n",
    "    T = x_obs.shape[0]\n",
    "    no_state = F.shape[0]\n",
    "    no_measurement = J.shape[0]\n",
    "    X_mean = np.zeros((no_st,1)) #Initialize the particle cloud at 0\n",
    "    V_x = linalg.solve_discrete_lyapunov(F,G @ G.T) #Initial Variance function solved from FVF'−F+G @ G.T=0\n",
    "    P = V_x# + 10 * np.eye(5,5) # P matrix is the initial variance\n",
    "    lnp = 0 # Initialize likelihood value\n",
    "    Eta = np.reshape(np.random.multivariate_normal(np.zeros(no_measurement), np.eye(no_measurement),no_simu*T),(T,no_simu,no_measurement),order='F') \n",
    "    X =  np.random.multivariate_normal(X_mean.flatten(),P,no_simu)\n",
    "    p_yx = np.zeros((X.shape[0]))\n",
    "    const_obs = Const_obs.T\n",
    "    Var_y = J @ J.T\n",
    "    Var_eps = G @ G.T \n",
    "    inv_Var_y = linalg.inv(Var_y)\n",
    "    maxiter = 30 # max number of iterations in the while loop\n",
    "    accept_shock = np.random.uniform(size = (markov_time,no_simu,T,maxiter))\n",
    "    mutate_shock = np.reshape(np.random.multivariate_normal(np.zeros(no_measurement),np.eye(no_measurement),no_simu*T*maxiter*markov_time\n",
    "                                           ),(T,no_simu,no_measurement,maxiter,markov_time),order='F')\n",
    "    def eval_weights(phi,phi_prev,e_dev):\n",
    "        return np.exp(-e_dev*(phi-phi_prev))*(phi/phi_prev)**(no_measurement/2)\n",
    "    def eval_inef_ratio(phi,phi_prev,e_dev,r_star):\n",
    "        eval_weights_tmp = eval_weights(phi,phi_prev,e_dev)\n",
    "        return np.sum((eval_weights_tmp/eval_weights_tmp.mean())**2)/no_simu -r_star\n",
    "    def eval_inef_ratio_init(phi,r_star,no_simu,e_dev):\n",
    "        A1=(2 * np.pi)**(-no_measurement/2) *  np.exp(- phi* e_dev) * (np.linalg.det(inv_Var_y*phi))**(1/2)\n",
    "        B1=A1.mean()\n",
    "        return np.sum((A1/B1)**2)/no_simu - r_star\n",
    "    def eval_weights_avg(eval_weights_tmp):\n",
    "        return eval_weights_tmp/ np.mean(eval_weights_tmp)/no_simu\n",
    "    def c_var_updater_mh(x):\n",
    "        return 0.95 + 0.1 * np.exp(20 * (x-0.4))/(1 + np.exp(20 * (x-0.4)))\n",
    "    \n",
    "    for t in range(T): #Loop over time periods and add up the likelihood\n",
    "        #print(t)\n",
    "        #const_obs = 0\n",
    "        c_var = 0.3\n",
    "        #phi_tmp1 = phi_init\n",
    "        #phi_tmp2 = phi_init\n",
    "        X_ft = X @ F.T\n",
    "        X_next = X_ft + Eta[t,:,:] @ G.T           #Propagate the paricle forward\n",
    "        #plt.hist(Eta[t,:,:])\n",
    "        y_dev = x_obs[t,:] -X_next @ H.T - const_obs\n",
    "        e_dev = 0.5 * np.diag(( y_dev) @ inv_Var_y @ (y_dev).T)\n",
    "        phi_init1 = optimize.bisect(eval_inef_ratio_init,phi_init,1,args = (r_star,no_simu,e_dev))\n",
    "        phi = phi_init1\n",
    "        #print(phi)\n",
    "        p_yx = np.exp(- phi* e_dev) * (np.linalg.det(inv_Var_y*phi))**(1/2)\n",
    "        ##p_yx_true = np.exp( -0.5 * np.log(np.linalg.det(Var_y)) - e_dev) \n",
    "        #Computing the likelihoood\n",
    "        p_yy = p_yx.mean()\n",
    "        weights_val = p_yx/p_yy/no_simu #Giving weights to the observations\n",
    "        multisample = np.random.multinomial(no_simu, weights_val.flatten(), size=1).flatten() #resampling based on weights\n",
    "        X_next = np.repeat(X_next,multisample,axis = 0) \n",
    "        X = np.repeat(X,multisample,axis = 0)#Creating a new sample based on the weights\n",
    "        Eta_mutate = np.repeat(Eta[t,:,:] ,multisample,axis = 0)#Creating a new sample based on the weights\n",
    "        #X = X_next_sample.copy()\n",
    "        iterate = 0\n",
    "        lnp = np.log(p_yx.mean()) + lnp - 0.5 * no_measurement *  np.log(2*np.pi)\n",
    "        #print(np.log(p_yx.mean()))\n",
    "        while (phi <1):\n",
    "        #while (iterate < 0):\n",
    "            #print(iterate,phi,lnp)\n",
    "            #print(phi,phi_tmp1,phi_tmp2)\n",
    "            y_dev = x_obs[t,:] -X_next @ H.T - const_obs\n",
    "            e_dev = 0.5 * np.diag(( y_dev) @ inv_Var_y @ (y_dev).T)\n",
    "            if(eval_inef_ratio(1,phi,e_dev,r_star) <= 0):\n",
    "                weights_lik = eval_weights(1,phi,e_dev)\n",
    "                #phi_prev = phi\n",
    "                phi = 1\n",
    "            else:\n",
    "                phi_tmp = optimize.bisect(eval_inef_ratio,phi,1,args = (phi,e_dev,r_star))\n",
    "                weights_lik = eval_weights(phi_tmp,phi,e_dev)\n",
    "                phi = phi_tmp \n",
    "            weights_val = eval_weights_avg(weights_lik)\n",
    "            multisample = np.random.multinomial(no_simu, weights_val.flatten(), size=1).flatten() #resampling based on weights\n",
    "            X_next = np.repeat(X_next,multisample,axis = 0) \n",
    "            X = np.repeat(X,multisample,axis = 0)#Creating a new sample based on the weights\n",
    "            Eta_mutate = np.repeat(Eta_mutate ,multisample,axis = 0)#Creating a new sample based on the weight           \n",
    "            for mt in range(markov_time):\n",
    "                X_ft = X @ F.T\n",
    "                Eta_mutate_tmp = Eta_mutate + c_var * mutate_shock[t,:,:,iterate,mt]\n",
    "                X_next_mt_sample = X_ft + Eta_mutate_tmp @ G.T          #Propagate the paricle forward\n",
    "                y_dev_mt_sample = x_obs[t,:] -X_next_mt_sample @ H.T - const_obs\n",
    "                e_dev_mt_sample = 0.5 * np.diag(( y_dev_mt_sample) @ ( inv_Var_y) @ (y_dev_mt_sample).T)\n",
    "                p_yx_tmp =  - phi* e_dev_mt_sample\n",
    "                y_dev_mt_past = x_obs[t,:] -X_next @ H.T - const_obs\n",
    "                e_dev_mt_past = 0.5 * np.diag(( y_dev_mt_past) @ (  inv_Var_y) @ (y_dev_mt_past).T)\n",
    "                p_yx_past =  -  phi* e_dev_mt_past\n",
    "                pr_ratio = -0.5 * np.sum(Eta_mutate_tmp**2 -Eta_mutate**2,1)\n",
    "                acceptance_rate = np.exp( p_yx_tmp - p_yx_past+pr_ratio)\n",
    "                decision = acceptance_rate > accept_shock[mt,:,t,iterate]\n",
    "                tiled_decision = np.tile(decision,(no_measurement,1)).T\n",
    "                tiled_decision_x = np.tile(decision,(no_state,1)).T\n",
    "                Eta_mutate = Eta_mutate_tmp * tiled_decision + (1 - tiled_decision) * Eta_mutate\n",
    "                X_next = X_next_mt_sample * tiled_decision_x + (1 - tiled_decision_x) * X_next\n",
    "            c_var = c_var * c_var_updater_mh(decision.sum()/no_simu)\n",
    "            iterate = iterate +1\n",
    "            lnp = np.log(np.mean(weights_lik))  + lnp\n",
    "        X = X_next.copy()\n",
    "    return lnp "
   ]
  },
  {
   "cell_type": "code",
   "execution_count": 24,
   "metadata": {},
   "outputs": [
    {
     "data": {
      "text/plain": [
       "-1066.3491780438794"
      ]
     },
     "execution_count": 24,
     "metadata": {},
     "output_type": "execute_result"
    }
   ],
   "source": [
    "tempered_particle_filter(F,G,H,J,x_obs3,Const_obs,6000,r_star = 2,phi_init = 0.002,markov_time = 1)"
   ]
  },
  {
   "cell_type": "code",
   "execution_count": 19,
   "metadata": {},
   "outputs": [
    {
     "name": "stderr",
     "output_type": "stream",
     "text": [
      "100%|███████████████████████████████████████████████████████████████████████████████| 20/20 [5:05:28<00:00, 916.41s/it]\n"
     ]
    },
    {
     "name": "stdout",
     "output_type": "stream",
     "text": [
      "-1212.74955884 81.9596633676 916.382418597\n"
     ]
    }
   ],
   "source": [
    "no_runs = 20\n",
    "likelihood_val = np.zeros((no_runs,2))\n",
    "F , G, H, J, Const_obs,err= eval_theta(param_likely)\n",
    "KF_filter(F,G,H, J,x_obs3,Const_obs)\n",
    "for i in tqdm(range(no_runs)):\n",
    "    t0 = time.time()\n",
    "    likelihood_val[i,0] = particle_filter(F,G,H,J,x_obs3,Const_obs,no_simu = 40000)\n",
    "    t1 = time.time()\n",
    "    likelihood_val[i,1] = t1-t0\n",
    "    np.savetxt(\"lnp_bspf_param_likely.csv\", likelihood_val, delimiter=\",\")\n",
    "Bias = np.mean(likelihood_val[:,0])\n",
    "StDev = np.std(likelihood_val[:,0])\n",
    "AvgTime = np.mean(likelihood_val[:,1])\n",
    "print(Bias, StDev,AvgTime)"
   ]
  },
  {
   "cell_type": "code",
   "execution_count": 20,
   "metadata": {},
   "outputs": [
    {
     "name": "stderr",
     "output_type": "stream",
     "text": [
      "100%|███████████████████████████████████████████████████████████████████████████████| 20/20 [5:04:22<00:00, 913.13s/it]\n"
     ]
    },
    {
     "name": "stdout",
     "output_type": "stream",
     "text": [
      "-1223.46248238 61.3549436589 913.11138916\n"
     ]
    }
   ],
   "source": [
    "no_runs = 20\n",
    "likelihood_val = np.zeros((no_runs,2))\n",
    "F , G, H, J, Const_obs,err= eval_theta(param_unlikely)\n",
    "KF_filter(F,G,H, J,x_obs3,Const_obs)\n",
    "for i in tqdm(range(no_runs)):\n",
    "    t0 = time.time()\n",
    "    likelihood_val[i,0] = particle_filter(F,G,H,J,x_obs3,Const_obs,no_simu = 40000)\n",
    "    t1 = time.time()\n",
    "    likelihood_val[i,1] = t1-t0\n",
    "    np.savetxt(\"lnp_bspf_param_unlikely.csv\", likelihood_val, delimiter=\",\")\n",
    "Bias = np.mean(likelihood_val[:,0])\n",
    "StDev = np.std(likelihood_val[:,0])\n",
    "AvgTime = np.mean(likelihood_val[:,1])\n",
    "print(Bias, StDev,AvgTime)"
   ]
  },
  {
   "cell_type": "code",
   "execution_count": 21,
   "metadata": {
    "collapsed": true
   },
   "outputs": [],
   "source": []
  },
  {
   "cell_type": "code",
   "execution_count": 23,
   "metadata": {
    "scrolled": true
   },
   "outputs": [
    {
     "data": {
      "text/plain": [
       "81.959663367589727"
      ]
     },
     "execution_count": 23,
     "metadata": {},
     "output_type": "execute_result"
    }
   ],
   "source": [
    "lnp_BSPF[:,0].std()"
   ]
  },
  {
   "cell_type": "code",
   "execution_count": 29,
   "metadata": {
    "collapsed": true
   },
   "outputs": [],
   "source": [
    "df2 = pandas.read_table(\"lnp.csv\",  delimiter=',',header=None)\n",
    "lnp_TPF = df2.values"
   ]
  },
  {
   "cell_type": "code",
   "execution_count": 37,
   "metadata": {},
   "outputs": [
    {
     "data": {
      "text/plain": [
       "-1667.2304599712243"
      ]
     },
     "execution_count": 37,
     "metadata": {},
     "output_type": "execute_result"
    }
   ],
   "source": [
    "lnp_TPF[0:16,0].mean()"
   ]
  },
  {
   "cell_type": "code",
   "execution_count": 25,
   "metadata": {},
   "outputs": [
    {
     "name": "stderr",
     "output_type": "stream",
     "text": [
      "100%|████████████████████████████████████████████████████████████████████████████| 100/100 [16:57:26<00:00, 610.47s/it]\n"
     ]
    },
    {
     "name": "stdout",
     "output_type": "stream",
     "text": [
      "-1064.62320011 42.5444166354 610.46795861\n"
     ]
    }
   ],
   "source": [
    "no_runs = 100\n",
    "likelihood_val = np.zeros((no_runs,2))\n",
    "F , G, H, J, Const_obs,err= eval_theta(param_likely)\n",
    "KF_filter(F,G,H, J,x_obs3,Const_obs)\n",
    "for i in tqdm(range(no_runs)):\n",
    "    t0 = time.time()\n",
    "    likelihood_val[i,0] = tempered_particle_filter(F,G,H,J,x_obs3,Const_obs,8000,r_star = 2,phi_init = 0.0002,markov_time = 1)\n",
    "    t1 = time.time()\n",
    "    likelihood_val[i,1] = t1-t0\n",
    "    np.savetxt(\"lnp_tpf_param_likely.csv\", likelihood_val, delimiter=\",\")\n",
    "Bias = np.mean(likelihood_val[:,0])\n",
    "StDev = np.std(likelihood_val[:,0])\n",
    "AvgTime = np.mean(likelihood_val[:,1])\n",
    "print(Bias, StDev,AvgTime)"
   ]
  },
  {
   "cell_type": "code",
   "execution_count": 26,
   "metadata": {},
   "outputs": [
    {
     "name": "stderr",
     "output_type": "stream",
     "text": [
      "100%|█████████████████████████████████████████████████████████████████████████████| 100/100 [9:37:09<00:00, 346.29s/it]\n"
     ]
    },
    {
     "name": "stdout",
     "output_type": "stream",
     "text": [
      "-1112.97964019 45.0535955136 346.29032063\n"
     ]
    }
   ],
   "source": [
    "no_runs = 100\n",
    "likelihood_val = np.zeros((no_runs,2))\n",
    "F , G, H, J, Const_obs,err= eval_theta(param_unlikely)\n",
    "KF_filter(F,G,H, J,x_obs3,Const_obs)\n",
    "for i in tqdm(range(no_runs)):\n",
    "    t0 = time.time()\n",
    "    likelihood_val[i,0] = tempered_particle_filter(F,G,H,J,x_obs3,Const_obs,6000,r_star = 2,phi_init = 0.0002,markov_time = 1)\n",
    "    t1 = time.time()\n",
    "    likelihood_val[i,1] = t1-t0\n",
    "    np.savetxt(\"lnp_tpf_param_unlikely.csv\", likelihood_val, delimiter=\",\")\n",
    "Bias = np.mean(likelihood_val[:,0])\n",
    "StDev = np.std(likelihood_val[:,0])\n",
    "AvgTime = np.mean(likelihood_val[:,1])\n",
    "print(Bias, StDev,AvgTime)"
   ]
  },
  {
   "cell_type": "code",
   "execution_count": 19,
   "metadata": {
    "collapsed": true
   },
   "outputs": [],
   "source": [
    "df_bspf_param_likely = pandas.read_table(\"lnp_bspf_param_likely.csv\",  delimiter=',',header=None)\n",
    "df_bspf_param_unlikely = pandas.read_table(\"lnp_bspf_param_unlikely.csv\",  delimiter=',',header=None)\n",
    "df_tpf_param_likely = pandas.read_table(\"lnp_tpf_param_likely.csv\",  delimiter=',',header=None)\n",
    "df_tpf_param_unlikely = pandas.read_table(\"lnp_tpf_param_unlikely.csv\",  delimiter=',',header=None)\n",
    "F , G, H, J, Const_obs,err= eval_theta(param_likely)\n",
    "df_bspf_param_likely.values[:,0] = df_bspf_param_likely[0].values  -  KF_filter(F,G,H, J,x_obs3,Const_obs)\n",
    "df_tpf_param_likely.values[:,0] = df_tpf_param_likely[0].values  -  KF_filter(F,G,H, J,x_obs3,Const_obs)\n",
    "F , G, H, J, Const_obs,err= eval_theta(param_unlikely)\n",
    "df_bspf_param_unlikely.values[:,0] = df_bspf_param_unlikely[0].values  -  KF_filter(F,G,H, J,x_obs3,Const_obs)\n",
    "df_tpf_param_unlikely.values[:,0] = df_tpf_param_unlikely[0].values  -  KF_filter(F,G,H, J,x_obs3,Const_obs)"
   ]
  },
  {
   "cell_type": "code",
   "execution_count": 20,
   "metadata": {},
   "outputs": [
    {
     "name": "stdout",
     "output_type": "stream",
     "text": [
      "=========================================================\n",
      "Please add the following lines to your LaTeX preamble:\n",
      "\n",
      "\\usepackage[utf8]{inputenc}\n",
      "\\usepackage{fontspec} % This line only for XeLaTeX and LuaLaTeX\n",
      "\\usepackage{pgfplots}\n",
      "=========================================================\n",
      "Horizontal alignment will be ignored as no 'x tick label text width' has been passed in the 'extra' parameter\n"
     ]
    },
    {
     "data": {
      "image/png": "[encoded data removed]",
      "text/plain": [
       "<matplotlib.figure.Figure at 0x172fa7d8d68>"
      ]
     },
     "metadata": {},
     "output_type": "display_data"
    }
   ],
   "source": [
    "df_bspf_param_likely[0].plot.density()\n",
    "df_tpf_param_likely[0].plot.density()\n",
    "plt.legend(['BSPF', 'TPF'], loc='upper left')\n",
    "plt.tick_params(\n",
    "    axis='both',          # changes apply to the x-axis\\n\",\n",
    "    which='both',      # both major and minor ticks are affected\\n\",\n",
    "    bottom='off',      # ticks along the bottom edge are off\\n\",\n",
    "    top='off',         # ticks along the top edge are off\\n\",\n",
    "    left = 'off',\n",
    "    right = 'off',\n",
    "    #labelbottom='off',# labels along the bottom edge are off\\n\",\n",
    "    labelleft='off')\n",
    "tikz_save('SW_likely.tikz')"
   ]
  },
  {
   "cell_type": "code",
   "execution_count": 21,
   "metadata": {},
   "outputs": [
    {
     "name": "stdout",
     "output_type": "stream",
     "text": [
      "=========================================================\n",
      "Please add the following lines to your LaTeX preamble:\n",
      "\n",
      "\\usepackage[utf8]{inputenc}\n",
      "\\usepackage{fontspec} % This line only for XeLaTeX and LuaLaTeX\n",
      "\\usepackage{pgfplots}\n",
      "=========================================================\n",
      "Horizontal alignment will be ignored as no 'x tick label text width' has been passed in the 'extra' parameter\n"
     ]
    },
    {
     "data": {
      "image/png": "[encoded data removed]",
      "text/plain": [
       "<matplotlib.figure.Figure at 0x172fa7d86a0>"
      ]
     },
     "metadata": {},
     "output_type": "display_data"
    }
   ],
   "source": [
    "df_bspf_param_unlikely[0].plot.density()\n",
    "df_tpf_param_unlikely[0].plot.density()\n",
    "plt.legend(['BSPF', 'TPF'], loc='upper left')\n",
    "plt.tick_params(\n",
    "    axis='both',          # changes apply to the x-axis\\n\",\n",
    "    which='both',      # both major and minor ticks are affected\\n\",\n",
    "    bottom='off',      # ticks along the bottom edge are off\\n\",\n",
    "    top='off',         # ticks along the top edge are off\\n\",\n",
    "    left = 'off',\n",
    "    right = 'off',\n",
    "    #labelbottom='off',# labels along the bottom edge are off\\n\",\n",
    "    labelleft='off')\n",
    "tikz_save('SW_unlikely.tikz')"
   ]
  },
  {
   "cell_type": "code",
   "execution_count": null,
   "metadata": {
    "collapsed": true
   },
   "outputs": [],
   "source": []
  }
 ],
 "metadata": {
  "kernelspec": {
   "display_name": "Python 3",
   "language": "python",
   "name": "python3"
  },
  "language_info": {
   "codemirror_mode": {
    "name": "ipython",
    "version": 3
   },
   "file_extension": ".py",
   "mimetype": "text/x-python",
   "name": "python",
   "nbconvert_exporter": "python",
   "pygments_lexer": "ipython3",
   "version": "3.6.3"
  }
 },
 "nbformat": 4,
 "nbformat_minor": 1
}
